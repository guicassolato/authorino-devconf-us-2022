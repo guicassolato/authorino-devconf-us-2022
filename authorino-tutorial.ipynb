{
 "cells": [
  {
   "cell_type": "markdown",
   "metadata": {},
   "source": [
    "# Authorino: K8s-native Zero Trust API Security\n",
    "\n",
    "Demo of [Authorino](https://github.com/kuadrant/authorino), K8s-native external authorization service, for [DevConf.US 2022](https://devconfus2022.sched.com/event/14Zsq/authorino-k8s-native-zero-trust-api-security), Boston (USA).\n",
    "\n",
    "#### Authorino features covered in the demo\n",
    "- API keys authentication\n",
    "- OpenID Connect JWT verification\n",
    "- Authorization based on Kubernetes SubjectAccessReview\n",
    "- Authorization based on Authorino’s simple JSON pattern-matching authorization policies"
   ]
  },
  {
   "cell_type": "markdown",
   "metadata": {},
   "source": [
    "## Requirements\n",
    "\n",
    "- [Docker](https://docker.com)\n",
    "- [Kind](https://kind.sigs.k8s.io)\n",
    "- [jq](https://stedolan.github.io/jq)"
   ]
  },
  {
   "cell_type": "markdown",
   "metadata": {},
   "source": [
    "## The stack\n",
    "\n",
    "- **Kubernetes cluster**<br/>\n",
    "  Started locally with [Kind](https://kind.sigs.k8s.io/).\n",
    "- **News API**<br/>\n",
    "  Application (REST API) to be protected with Authorino. The following HTTP endpoints are available:\n",
    "  ```\n",
    "  POST /{category}          Create a news article\n",
    "  GET /{category}           List news articles\n",
    "  GET /{category}/{id}      Read a news article\n",
    "  DELETE /{category}/{id}   Delete a news article\n",
    "  ```\n",
    "- **[Envoy proxy](https://envoyproxy.io)**<br/>\n",
    "  Deployed as sidecar of the News API, to serve the application with the [External Authorization](https://www.envoyproxy.io/docs/envoy/latest/configuration/http/http_filters/ext_authz_filter#config-http-filters-ext-authz) filter enabled and pointing to Authorino.\n",
    "- **[Authorino Operator](https://github.com/kuadrant/authorino-operator)**<br/>\n",
    "  Cluster-wide installation of the operator and CRDs to manage and use Authorino authorization services.\n",
    "- **[Authorino](https://github.com/kuadrant/authorino)**<br/>\n",
    "  The external authorization service, deployed in [`namespaced`](https://github.com/Kuadrant/authorino/blob/main/docs/architecture.md#cluster-wide-vs-namespaced-instances) reconciliation mode, in the same K8s namespace as the News API.\n",
    "- **[Keycloak server](https://keycloak.org)**<br/>\n",
    "  (Optional) For a more advanced use case of extending access to the News API for an external group of users managed in the the identity provider.\n",
    "- **[Contour](https://projectcontour.io)**<br/>\n",
    "  Kubernetes Ingress Controller based on the Envoy proxy, to handle the ingress traffic to the News API and to Keycloak.\n",
    "\n",
    "> <br/>\n",
    "> <b>Note:</b> For simplicity, in the demo all components are deployed without TLS.\n",
    "> <br/>\n",
    "> <br/>"
   ]
  },
  {
   "cell_type": "markdown",
   "metadata": {},
   "source": [
    "## Prepare the environment\n",
    "\n",
    "The following steps are typically performed beforehand by a cluster administrator. They are often out of the scope of the application developer's workflow."
   ]
  },
  {
   "cell_type": "markdown",
   "metadata": {},
   "source": [
    "Create the cluster:"
   ]
  },
  {
   "cell_type": "code",
   "execution_count": null,
   "metadata": {
    "vscode": {
     "languageId": "shellscript"
    }
   },
   "outputs": [],
   "source": [
    "%%bash\n",
    "kind create cluster --name authorino-demo --config cluster.yaml"
   ]
  },
  {
   "cell_type": "markdown",
   "metadata": {},
   "source": [
    "Install Contour:"
   ]
  },
  {
   "cell_type": "code",
   "execution_count": null,
   "metadata": {
    "vscode": {
     "languageId": "shellscript"
    }
   },
   "outputs": [],
   "source": [
    "!kubectl apply -f contour.yaml"
   ]
  },
  {
   "cell_type": "markdown",
   "metadata": {},
   "source": [
    "Install the Authorino Operator:"
   ]
  },
  {
   "cell_type": "code",
   "execution_count": null,
   "metadata": {
    "vscode": {
     "languageId": "shellscript"
    }
   },
   "outputs": [],
   "source": [
    "!kubectl apply -f https://raw.githubusercontent.com/Kuadrant/authorino-operator/main/config/deploy/manifests.yaml"
   ]
  },
  {
   "cell_type": "markdown",
   "metadata": {},
   "source": [
    "> <br/>\n",
    "> <b>Note:</b> In OpenShift, the Authorino Operator can alternatively be installed directly from the Red Hat OperatorHub, using <a href=\"https://olm.operatorframework.io\">Operator Lifecycle Manager</a>.\n",
    "> <br/>\n",
    "> <br/>"
   ]
  },
  {
   "cell_type": "markdown",
   "metadata": {},
   "source": [
    "Install Keycloak:"
   ]
  },
  {
   "cell_type": "code",
   "execution_count": null,
   "metadata": {
    "vscode": {
     "languageId": "shellscript"
    }
   },
   "outputs": [],
   "source": [
    "!kubectl apply -f keycloak.yaml"
   ]
  },
  {
   "cell_type": "markdown",
   "metadata": {},
   "source": [
    "## Run the demo"
   ]
  },
  {
   "cell_type": "markdown",
   "metadata": {},
   "source": [
    "### 1. Deploy the News API\n",
    "\n",
    "The News Agency API (\"News API\" for short) is minimal. It has no conception of authentication or authorization in its own. Whenever a request hits the API and it is a valid endpoint/operation, it serves the request. If it is a `POST` request to `/{category}`, it creates a news article under that news category. Creating an object here means storing it in memory. There is no persisted database. If it is a GET request to `/{category}`, it  serves the list of news articles in the category, as stored in memory. If it is a `GET` or `DELETE` to `/{category/(article-id}` it serves or deletes the requested object from memory, respectively.\n",
    "\n",
    "Create the namespace:"
   ]
  },
  {
   "cell_type": "code",
   "execution_count": null,
   "metadata": {
    "vscode": {
     "languageId": "shellscript"
    }
   },
   "outputs": [],
   "source": [
    "!kubectl create namespace news-api"
   ]
  },
  {
   "cell_type": "markdown",
   "metadata": {},
   "source": [
    "Deploy the New Agency API in the namespace:"
   ]
  },
  {
   "cell_type": "code",
   "execution_count": null,
   "metadata": {
    "vscode": {
     "languageId": "shellscript"
    }
   },
   "outputs": [],
   "source": [
    "!kubectl -n news-api apply -f news-api.yaml"
   ]
  },
  {
   "cell_type": "markdown",
   "metadata": {},
   "source": [
    "At this point, the News API is running, but it is not protected.\n",
    "\n",
    "Try the News API unprotected:"
   ]
  },
  {
   "cell_type": "code",
   "execution_count": null,
   "metadata": {
    "vscode": {
     "languageId": "shellscript"
    }
   },
   "outputs": [],
   "source": [
    "!curl http://news-api.127.0.0.1.nip.io/sports"
   ]
  },
  {
   "cell_type": "markdown",
   "metadata": {},
   "source": [
    "### 2. Lock down the News API\n",
    "\n",
    "Request an instance of Authorino:"
   ]
  },
  {
   "cell_type": "code",
   "execution_count": null,
   "metadata": {
    "vscode": {
     "languageId": "shellscript"
    }
   },
   "outputs": [],
   "source": [
    "!kubectl -n news-api apply -f authorino.yaml"
   ]
  },
  {
   "cell_type": "markdown",
   "metadata": {},
   "source": [
    "> <br/>\n",
    "> <b>Note:</b> With the Authorino Operator running, you can request instances of Authorino deployed cluster-wide (i.e. managing auth definitions across all namespaces in the Kubernetes cluster) or for a particular namespace (i.e., to protect workloads whose auth definitions are defined in the same namespaces as the corresponding Authorino instances themselves). In this demo, we are requesting an Authorino instance in the same namespace as the News API. Cluster-wide Authorino instances are typically setup by cluster administrators beforehand and therefore not part of the developer's workflow.\n",
    "> <br/>\n",
    "> <br/>"
   ]
  },
  {
   "cell_type": "markdown",
   "metadata": {},
   "source": [
    "Add the Envoy sidecar to the News API:"
   ]
  },
  {
   "cell_type": "code",
   "execution_count": null,
   "metadata": {
    "vscode": {
     "languageId": "shellscript"
    }
   },
   "outputs": [],
   "source": [
    "!kubectl -n news-api apply -f news-api-envoy.yaml"
   ]
  },
  {
   "cell_type": "markdown",
   "metadata": {},
   "source": [
    "Try the News API behind Envoy:"
   ]
  },
  {
   "cell_type": "code",
   "execution_count": null,
   "metadata": {
    "vscode": {
     "languageId": "shellscript"
    }
   },
   "outputs": [],
   "source": [
    "!curl http://news-api.127.0.0.1.nip.io/sports -i"
   ]
  },
  {
   "cell_type": "markdown",
   "metadata": {},
   "source": [
    "### 3. Open up the News API for authenticated and authorized users\n",
    "\n",
    "Create the AuthConfig:"
   ]
  },
  {
   "cell_type": "code",
   "execution_count": null,
   "metadata": {
    "vscode": {
     "languageId": "shellscript"
    }
   },
   "outputs": [],
   "source": [
    "!kubectl -n news-api apply -f authconfig-1.yaml"
   ]
  },
  {
   "cell_type": "markdown",
   "metadata": {},
   "source": [
    "Try the News API without a valid authentication key:"
   ]
  },
  {
   "cell_type": "code",
   "execution_count": null,
   "metadata": {
    "vscode": {
     "languageId": "shellscript"
    }
   },
   "outputs": [],
   "source": [
    "!curl http://news-api.127.0.0.1.nip.io/sports -i"
   ]
  },
  {
   "cell_type": "markdown",
   "metadata": {},
   "source": [
    "Create an API key:"
   ]
  },
  {
   "cell_type": "code",
   "execution_count": null,
   "metadata": {
    "vscode": {
     "languageId": "shellscript"
    }
   },
   "outputs": [],
   "source": [
    "!kubectl -n news-api apply -f api-key-1.yaml"
   ]
  },
  {
   "cell_type": "markdown",
   "metadata": {},
   "source": [
    "Try the News API with a valid API key before granting permission to the user:"
   ]
  },
  {
   "cell_type": "code",
   "execution_count": null,
   "metadata": {
    "vscode": {
     "languageId": "shellscript"
    }
   },
   "outputs": [],
   "source": [
    "!curl -H 'Authorization: APIKEY ndyBzreUzF4zqDQsqSPMHkRhriEOtcRx' http://news-api.127.0.0.1.nip.io/sports -i"
   ]
  },
  {
   "cell_type": "markdown",
   "metadata": {},
   "source": [
    "Grant permission to the API key user 'john' in the Kubernetes RBAC:"
   ]
  },
  {
   "cell_type": "code",
   "execution_count": null,
   "metadata": {
    "vscode": {
     "languageId": "shellscript"
    }
   },
   "outputs": [],
   "source": [
    "!kubectl -n news-api apply -f role.yaml\n",
    "!kubectl -n news-api apply -f rolebinding.yaml"
   ]
  },
  {
   "cell_type": "markdown",
   "metadata": {},
   "source": [
    "Try the News API with a valid API key with permission granted to the user:"
   ]
  },
  {
   "cell_type": "code",
   "execution_count": null,
   "metadata": {
    "vscode": {
     "languageId": "shellscript"
    }
   },
   "outputs": [],
   "source": [
    "!curl -H 'Authorization: APIKEY ndyBzreUzF4zqDQsqSPMHkRhriEOtcRx' http://news-api.127.0.0.1.nip.io/sports -i"
   ]
  },
  {
   "cell_type": "markdown",
   "metadata": {},
   "source": [
    "Try the API for creating a news article:"
   ]
  },
  {
   "cell_type": "code",
   "execution_count": null,
   "metadata": {
    "vscode": {
     "languageId": "shellscript"
    }
   },
   "outputs": [],
   "source": [
    "!curl -H 'Authorization: APIKEY ndyBzreUzF4zqDQsqSPMHkRhriEOtcRx' -X POST \\\n",
    "  -d '{\"title\":\"Lionel Messi leaving Barcelona after ‘obstacles’ thwart contract renewal\",\"body\":\"Barcelona have announced that Lionel Messi is leaving the club after “financial and structural obstacles” made it impossible to renew his contract. The forward, who has spent his whole career there, had been expected to re-sign after his deal expired in June. (By David Hytner)\"}' \\\n",
    "  http://news-api.127.0.0.1.nip.io/sports"
   ]
  },
  {
   "cell_type": "markdown",
   "metadata": {},
   "source": [
    "## Extra: Modify the auth scheme"
   ]
  },
  {
   "cell_type": "markdown",
   "metadata": {},
   "source": [
    "### 4. Add an external Identity Provider and extra policies"
   ]
  },
  {
   "cell_type": "markdown",
   "metadata": {},
   "source": [
    "In the [Keycloak Admin Console](http://keycloak.127.0.0.1.nip.io):\n",
    "1. create a realm `devconf`;\n",
    "2. add users `alice` and `bob` to the realm\n",
    "    - make sure to mark only Alice's email as verified\n",
    "    - set a password (`p`) to both users in the _Credentials_ tab\n",
    "3. create an OpenID Connect client `demo` in the realm."
   ]
  },
  {
   "cell_type": "markdown",
   "metadata": {},
   "source": [
    "Modify the AuthConfig:"
   ]
  },
  {
   "cell_type": "code",
   "execution_count": null,
   "metadata": {
    "vscode": {
     "languageId": "shellscript"
    }
   },
   "outputs": [],
   "source": [
    "!kubectl -n news-api apply -f authconfig-2.yaml"
   ]
  },
  {
   "cell_type": "markdown",
   "metadata": {},
   "source": [
    "Grant permission for the Keycloak users 'alice' and 'bob' in the Kubernetes RBAC, by editing the subjects listed in the `RoleBinding`:"
   ]
  },
  {
   "cell_type": "code",
   "execution_count": null,
   "metadata": {
    "vscode": {
     "languageId": "shellscript"
    }
   },
   "outputs": [],
   "source": [
    "%%bash --bg\n",
    "KUBE_EDITOR=\"code -w\" kubectl -n news-api edit rolebinding/news-api"
   ]
  },
  {
   "cell_type": "markdown",
   "metadata": {},
   "source": [
    "As Alice, obtain an access token from the Keycloak server:"
   ]
  },
  {
   "cell_type": "code",
   "execution_count": null,
   "metadata": {
    "vscode": {
     "languageId": "shellscript"
    }
   },
   "outputs": [],
   "source": [
    "%%bash --out ACCESS_TOKEN\n",
    "curl http://keycloak.127.0.0.1.nip.io/realms/devconf/protocol/openid-connect/token -s -d 'grant_type=password' -d 'client_id=demo' -d 'username=alice' -d 'password=p' | jq -r .access_token"
   ]
  },
  {
   "cell_type": "markdown",
   "metadata": {},
   "source": [
    "Try the News API as Alice:"
   ]
  },
  {
   "cell_type": "code",
   "execution_count": null,
   "metadata": {
    "vscode": {
     "languageId": "shellscript"
    }
   },
   "outputs": [],
   "source": [
    "!curl -H \"Authorization: Bearer $ACCESS_TOKEN\" http://news-api.127.0.0.1.nip.io/sports -i"
   ]
  },
  {
   "cell_type": "markdown",
   "metadata": {},
   "source": [
    "As Bob, obtain an access token from the Keycloak server:"
   ]
  },
  {
   "cell_type": "code",
   "execution_count": null,
   "metadata": {
    "vscode": {
     "languageId": "shellscript"
    }
   },
   "outputs": [],
   "source": [
    "%%bash --out ACCESS_TOKEN\n",
    "curl http://keycloak.127.0.0.1.nip.io/realms/devconf/protocol/openid-connect/token -s -d 'grant_type=password' -d 'client_id=demo' -d 'username=bob' -d 'password=p' | jq -r .access_token"
   ]
  },
  {
   "cell_type": "markdown",
   "metadata": {},
   "source": [
    "Try the News API as Bob:"
   ]
  },
  {
   "cell_type": "code",
   "execution_count": null,
   "metadata": {
    "vscode": {
     "languageId": "shellscript"
    }
   },
   "outputs": [],
   "source": [
    "!curl -H \"Authorization: Bearer $ACCESS_TOKEN\" http://news-api.127.0.0.1.nip.io/sports -i"
   ]
  },
  {
   "cell_type": "markdown",
   "metadata": {},
   "source": [
    "### 5. Inject auth data in the request\n",
    "\n",
    "Modify the AuthConfig:"
   ]
  },
  {
   "cell_type": "code",
   "execution_count": null,
   "metadata": {
    "vscode": {
     "languageId": "shellscript"
    }
   },
   "outputs": [],
   "source": [
    "!kubectl -n news-api apply -f authconfig-3.yaml"
   ]
  },
  {
   "cell_type": "markdown",
   "metadata": {},
   "source": [
    "Create an article with author:"
   ]
  },
  {
   "cell_type": "code",
   "execution_count": null,
   "metadata": {
    "vscode": {
     "languageId": "shellscript"
    }
   },
   "outputs": [],
   "source": [
    "!curl -H 'Authorization: APIKEY ndyBzreUzF4zqDQsqSPMHkRhriEOtcRx' -X POST \\\n",
    "  -d '{\"title\":\"Biden to sign massive climate, health care legislation\",\"body\":\"President Joe Biden will sign Democrats’ landmark climate change and health care bill on Tuesday, delivering what he has called the “final piece” of his pared-down domestic agenda, as he aims to boost his party’s standing with voters less than three months before midterm elections. (By The Associated Press)\"}' \\\n",
    "  http://news-api.127.0.0.1.nip.io/politics"
   ]
  },
  {
   "cell_type": "markdown",
   "metadata": {},
   "source": [
    "List the news articles in the 'politics' category:"
   ]
  },
  {
   "cell_type": "code",
   "execution_count": null,
   "metadata": {
    "vscode": {
     "languageId": "shellscript"
    }
   },
   "outputs": [],
   "source": [
    "!curl -H 'Authorization: APIKEY ndyBzreUzF4zqDQsqSPMHkRhriEOtcRx' http://news-api.127.0.0.1.nip.io/politics"
   ]
  },
  {
   "cell_type": "markdown",
   "metadata": {},
   "source": [
    "## Cleanup"
   ]
  },
  {
   "cell_type": "code",
   "execution_count": null,
   "metadata": {
    "vscode": {
     "languageId": "shellscript"
    }
   },
   "outputs": [],
   "source": [
    "!kind delete cluster --name authorino-demo"
   ]
  }
 ],
 "metadata": {
  "kernelspec": {
   "display_name": "Python 3.9.12 64-bit",
   "language": "python",
   "name": "python3"
  },
  "language_info": {
   "codemirror_mode": {
    "name": "ipython",
    "version": 3
   },
   "file_extension": ".py",
   "mimetype": "text/x-python",
   "name": "python",
   "nbconvert_exporter": "python",
   "pygments_lexer": "ipython3",
   "version": "3.9.12"
  },
  "orig_nbformat": 4,
  "vscode": {
   "interpreter": {
    "hash": "b0fa6594d8f4cbf19f97940f81e996739fb7646882a419484c72d19e05852a7e"
   }
  }
 },
 "nbformat": 4,
 "nbformat_minor": 2
}
